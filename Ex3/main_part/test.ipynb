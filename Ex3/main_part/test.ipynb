{
 "cells": [
  {
   "cell_type": "code",
   "execution_count": 5,
   "outputs": [
    {
     "data": {
      "text/plain": "'BQCC6HlwuQQXno6dC63rgy_BmZ0uYA3xENAIUv2yqIi26ekLn6NggQ4skA0R3bMiqUXDR6KzHNMdqFc0dEw'"
     },
     "execution_count": 5,
     "metadata": {},
     "output_type": "execute_result"
    }
   ],
   "source": [
    "import requests\n",
    "\n",
    "AUTH_URL = 'https://accounts.spotify.com/api/token'\n",
    "# POST\n",
    "auth_response = requests.post(AUTH_URL, {\n",
    "    'grant_type': 'client_credentials',\n",
    "    'client_id': '1452c28790c9401bba6359ea87efe48d',\n",
    "    'client_secret': '39238108121d4d338a4aeaf9235cffb4',\n",
    "})\n",
    "\n",
    "# convert the response to JSON\n",
    "auth_response_data = auth_response.json()\n",
    "\n",
    "# save the access token\n",
    "access_token = auth_response_data['access_token']"
   ],
   "metadata": {
    "collapsed": false,
    "pycharm": {
     "name": "#%%\n"
    }
   }
  },
  {
   "cell_type": "code",
   "execution_count": 27,
   "outputs": [],
   "source": [
    "# Track ID from the URI\n",
    "track_id = '4rhmXU8skfmVs6DoDMTkIl'\n",
    "# base URL of all Spotify API endpoints\n",
    "BASE_URL = 'https://api.spotify.com/v1/'"
   ],
   "metadata": {
    "collapsed": false,
    "pycharm": {
     "name": "#%%\n"
    }
   }
  },
  {
   "cell_type": "code",
   "execution_count": 28,
   "outputs": [
    {
     "data": {
      "text/plain": "{'danceability': 0.383,\n 'energy': 0.501,\n 'key': 10,\n 'loudness': -9.52,\n 'mode': 0,\n 'speechiness': 0.0301,\n 'acousticness': 0.425,\n 'instrumentalness': 0.811,\n 'liveness': 0.107,\n 'valence': 0.0707,\n 'tempo': 158.961,\n 'type': 'audio_features',\n 'id': '4rhmXU8skfmVs6DoDMTkIl',\n 'uri': 'spotify:track:4rhmXU8skfmVs6DoDMTkIl',\n 'track_href': 'https://api.spotify.com/v1/tracks/4rhmXU8skfmVs6DoDMTkIl',\n 'analysis_url': 'https://api.spotify.com/v1/audio-analysis/4rhmXU8skfmVs6DoDMTkIl',\n 'duration_ms': 163019,\n 'time_signature': 3}"
     },
     "execution_count": 28,
     "metadata": {},
     "output_type": "execute_result"
    }
   ],
   "source": [
    "headers = {\n",
    "    'Authorization': 'Bearer {token}'.format(token=access_token)\n",
    "}\n",
    "# actual GET request with proper header\n",
    "r = requests.get(BASE_URL + 'audio-features/' + track_id, headers=headers)\n",
    "r = r.json()\n",
    "r"
   ],
   "metadata": {
    "collapsed": false,
    "pycharm": {
     "name": "#%%\n"
    }
   }
  },
  {
   "cell_type": "code",
   "execution_count": 29,
   "outputs": [
    {
     "data": {
      "text/plain": "('The River',\n 'https://i.scdn.co/image/ab67616d0000b2733336596eb783587b63e176c5')"
     },
     "execution_count": 29,
     "metadata": {},
     "output_type": "execute_result"
    }
   ],
   "source": [
    "headers = {\n",
    "    'Authorization': 'Bearer {token}'.format(token=access_token)\n",
    "}\n",
    "# actual GET request with proper header\n",
    "r = requests.get(BASE_URL + 'tracks/' + track_id, headers=headers)\n",
    "r = r.json()\n",
    "artist_id=r['artists'][0]['id']\n",
    "r['name'],r['album']['images'][0]['url'],"
   ],
   "metadata": {
    "collapsed": false,
    "pycharm": {
     "name": "#%%\n"
    }
   }
  },
  {
   "cell_type": "code",
   "execution_count": 30,
   "outputs": [
    {
     "data": {
      "text/plain": "(['video game music'],)"
     },
     "execution_count": 30,
     "metadata": {},
     "output_type": "execute_result"
    }
   ],
   "source": [
    "headers = {\n",
    "    'Authorization': 'Bearer {token}'.format(token=access_token)\n",
    "}\n",
    "# actual GET request with proper header\n",
    "r = requests.get(BASE_URL + 'artists/' + artist_id, headers=headers)\n",
    "r = r.json()\n",
    "r['genres'],"
   ],
   "metadata": {
    "collapsed": false,
    "pycharm": {
     "name": "#%%\n"
    }
   }
  }
 ],
 "metadata": {
  "kernelspec": {
   "display_name": "Python 3 (ipykernel)",
   "language": "python",
   "name": "python3"
  },
  "language_info": {
   "codemirror_mode": {
    "name": "ipython",
    "version": 3
   },
   "file_extension": ".py",
   "mimetype": "text/x-python",
   "name": "python",
   "nbconvert_exporter": "python",
   "pygments_lexer": "ipython3",
   "version": "3.9.7"
  }
 },
 "nbformat": 4,
 "nbformat_minor": 4
}