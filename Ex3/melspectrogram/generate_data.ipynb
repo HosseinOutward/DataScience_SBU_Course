{
 "cells": [
  {
   "cell_type": "code",
   "execution_count": 1,
   "metadata": {
    "collapsed": true
   },
   "outputs": [],
   "source": [
    "from scipy.signal import spectrogram\n",
    "import librosa.display\n",
    "import numpy as np\n",
    "import matplotlib.pyplot as plt\n",
    "import plotly.express as px\n",
    "import plotly.graph_objects as go\n",
    "import math\n",
    "from scipy.io.wavfile import write\n",
    "import scipy.signal\n",
    "import IPython.display as ipd\n",
    "from pydub import AudioSegment\n",
    "import random\n",
    "from os.path import join\n",
    "from os import listdir\n",
    "sr=16000\n",
    "duration=16\n",
    "filename = r\"voc.mp3\""
   ]
  },
  {
   "cell_type": "code",
   "execution_count": 2,
   "outputs": [
    {
     "name": "stderr",
     "output_type": "stream",
     "text": [
      "D:\\Ext. App Files\\Code\\Py\\DataScience\\venv_conda\\Lib\\site-packages\\librosa\\core\\audio.py:165: UserWarning: PySoundFile failed. Trying audioread instead.\n",
      "  warnings.warn(\"PySoundFile failed. Trying audioread instead.\")\n"
     ]
    }
   ],
   "source": [
    "whale_song, _ = librosa.load(filename, sr)\n",
    "whale_song=whale_song[int(33*sr):int((33+duration)*sr)]\n",
    "whale_song, _ = librosa.effects.trim(whale_song)"
   ],
   "metadata": {
    "collapsed": false,
    "pycharm": {
     "name": "#%%\n"
    }
   }
  },
  {
   "cell_type": "code",
   "execution_count": null,
   "outputs": [],
   "source": [
    "amplitude = 2048; freq=2**10\n",
    "t = np.linspace(0, duration, int(sr * duration))\n",
    "# whale_song = amplitude * np.sin(2 * np.pi * freq * t)"
   ],
   "metadata": {
    "collapsed": false,
    "pycharm": {
     "name": "#%%\n"
    }
   }
  },
  {
   "cell_type": "code",
   "execution_count": null,
   "outputs": [],
   "source": [
    "fig = px.line(whale_song)\n",
    "fig.show()\n",
    "ipd.Audio(whale_song, rate=sr)"
   ],
   "metadata": {
    "collapsed": false,
    "pycharm": {
     "name": "#%%\n"
    }
   }
  },
  {
   "cell_type": "code",
   "execution_count": null,
   "outputs": [],
   "source": [
    "f, t, stft = scipy.signal.stft(whale_song, sr)\n",
    "stft_real = np.real(stft)\n",
    "stft_imag = np.imag(stft)"
   ],
   "metadata": {
    "collapsed": false,
    "pycharm": {
     "name": "#%%\n"
    }
   }
  },
  {
   "cell_type": "code",
   "execution_count": 3,
   "outputs": [],
   "source": [
    "notes_freq = np.arange(1,10)\n",
    "notes_freq = 16.352*pow(2,notes_freq)\n",
    "\n",
    "def audio_to_mel(audio_data):\n",
    "    fmin=16.352\n",
    "    mel_tensor=[]\n",
    "    for i, fmax in enumerate(notes_freq):\n",
    "        hop_length=sr//2; n_mels=32\n",
    "        n_fft=[2**14,2**13,2**12,2**11]\n",
    "        n_fft=n_fft[min(i,len(n_fft)-1)]\n",
    "        S = librosa.power_to_db(\n",
    "               librosa.feature.melspectrogram(\n",
    "                   audio_data, sr=sr, n_fft=n_fft, hop_length=hop_length,\n",
    "                   n_mels=n_mels, fmin=fmin, fmax=fmax),\n",
    "            ref=np.max)\n",
    "\n",
    "        # librosa.display.specshow(S, sr=sr, hop_length=hop_length,\n",
    "        #         fmin=fmin, fmax=fmax, x_axis='time', y_axis='mel');\n",
    "        # plt.colorbar(format='%+2.0f dB');\n",
    "        # plt.show()\n",
    "\n",
    "        fmin=fmax\n",
    "        mel_tensor.append(S)\n",
    "\n",
    "    return np.array(mel_tensor)"
   ],
   "metadata": {
    "collapsed": false,
    "pycharm": {
     "name": "#%%\n"
    }
   }
  },
  {
   "cell_type": "code",
   "execution_count": null,
   "outputs": [],
   "source": [
    "whale_song, _ = librosa.load(r\"D:\\Ext. App Files\\Code\\Py\\DataScience\\Ex3\"\n",
    "            r\"\\melspectrogram\\src_data\\cure\\The_Top\\03-Wailing_Wall.mp3\", sr)\n",
    "whale_song, _ = librosa.effects.trim(whale_song)\n",
    "whale_song=whale_song[int(33*sr):int((33+duration)*sr-1)]\n",
    "S=audio_to_mel(whale_song)\n",
    "print(S.shape)"
   ],
   "metadata": {
    "collapsed": false,
    "pycharm": {
     "name": "#%%\n"
    }
   }
  },
  {
   "cell_type": "code",
   "execution_count": 4,
   "outputs": [],
   "source": [
    "class SplitWavAudioMubin():\n",
    "    def __init__(self, outfolder, infolder, filename):\n",
    "        self.outfolder = outfolder\n",
    "        self.infolder = infolder\n",
    "        self.filename = filename\n",
    "\n",
    "        self.audio, _ = librosa.load(join(self.infolder, self.filename), sr)\n",
    "        self.audio, _ = librosa.effects.trim(self.audio)\n",
    "\n",
    "    def get_duration(self):\n",
    "        return len(self.audio)/sr\n",
    "\n",
    "    def multiple_split(self, sec_interv):\n",
    "        print(self.filename)\n",
    "        track_samples=[]\n",
    "        total_time=self.get_duration()//sec_interv*sec_interv\n",
    "        for t in np.arange(sec_interv, total_time, sec_interv):\n",
    "            audio=self.audio[int((t-sec_interv)*sr):int(t*sr-1)]\n",
    "            track_samples.append(audio_to_mel(audio))\n",
    "            # print(track_samples[-1].shape)\n",
    "        for t in np.arange(3*sec_interv//2, total_time+sec_interv//2, sec_interv):\n",
    "            audio=self.audio[int((t-sec_interv)*sr):int(t*sr-1)]\n",
    "            track_samples.append(audio_to_mel(audio))\n",
    "            # print(track_samples[-1].shape)\n",
    "\n",
    "        with open(join(self.outfolder,self.filename.split('.')[0]), 'wb') as f:\n",
    "            np.savez_compressed(f,np.array(track_samples))"
   ],
   "metadata": {
    "collapsed": false,
    "pycharm": {
     "name": "#%%\n"
    }
   }
  },
  {
   "cell_type": "code",
   "execution_count": null,
   "outputs": [],
   "source": [
    "all_list = open('src_data\\\\all.list').readlines()\n",
    "all_list = [ss.replace('\\n','') for ss in all_list]\n",
    "all_list = [[join('src_data',*ss.split('/')[:-1]), ss.split('/')[-1]+'.mp3'] for ss in all_list]\n",
    "for infolder, file in all_list:\n",
    "    split_wav = SplitWavAudioMubin('working_data', infolder, file)\n",
    "    split_wav.multiple_split(sec_interv=duration)\n",
    "    # except: print('****',file,'****')\n"
   ],
   "metadata": {
    "collapsed": false,
    "pycharm": {
     "name": "#%%\n"
    }
   }
  },
  {
   "cell_type": "code",
   "execution_count": 5,
   "outputs": [
    {
     "name": "stdout",
     "output_type": "stream",
     "text": [
      "38842\n"
     ]
    }
   ],
   "source": [
    "dataset=[]\n",
    "for f in listdir('working_data'):\n",
    "    dataset+=list(np.load(join('working_data',f))['arr_0'])\n",
    "random.shuffle(dataset)\n",
    "print(len(dataset))"
   ],
   "metadata": {
    "collapsed": false,
    "pycharm": {
     "name": "#%%\n"
    }
   }
  },
  {
   "cell_type": "code",
   "execution_count": null,
   "outputs": [],
   "source": [
    "with open('generated_dataset.npz', 'wb') as f:\n",
    "    np.savez_compressed(f,np.array(dataset))"
   ],
   "metadata": {
    "collapsed": false,
    "pycharm": {
     "name": "#%%\n"
    }
   }
  },
  {
   "cell_type": "code",
   "execution_count": 8,
   "outputs": [
    {
     "name": "stdout",
     "output_type": "stream",
     "text": [
      "d.wav\n"
     ]
    },
    {
     "name": "stderr",
     "output_type": "stream",
     "text": [
      "D:\\Ext. App Files\\Code\\Py\\DataScience\\venv_conda\\Lib\\site-packages\\librosa\\filters.py:238: UserWarning: Empty filters detected in mel frequency basis. Some channels will produce empty responses. Try increasing your sampling rate (and fmax) or reducing n_mels.\n",
      "  warnings.warn(\n"
     ]
    }
   ],
   "source": [
    "split_wav = SplitWavAudioMubin('testing', 'testing', 'd.wav')\n",
    "split_wav.multiple_split(sec_interv=duration)\n",
    "\n"
   ],
   "metadata": {
    "collapsed": false,
    "pycharm": {
     "name": "#%%\n"
    }
   }
  }
 ],
 "metadata": {
  "kernelspec": {
   "display_name": "Python 3",
   "language": "python",
   "name": "python3"
  },
  "language_info": {
   "codemirror_mode": {
    "name": "ipython",
    "version": 2
   },
   "file_extension": ".py",
   "mimetype": "text/x-python",
   "name": "python",
   "nbconvert_exporter": "python",
   "pygments_lexer": "ipython2",
   "version": "2.7.6"
  }
 },
 "nbformat": 4,
 "nbformat_minor": 0
}