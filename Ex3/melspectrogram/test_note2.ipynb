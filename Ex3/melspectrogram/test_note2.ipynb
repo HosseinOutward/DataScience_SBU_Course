{
 "cells": [
  {
   "cell_type": "code",
   "execution_count": 84,
   "metadata": {
    "collapsed": true
   },
   "outputs": [],
   "source": [
    "from scipy.signal import spectrogram\n",
    "import librosa.display\n",
    "import numpy as np\n",
    "import matplotlib.pyplot as plt\n",
    "import plotly.express as px\n",
    "import plotly.graph_objects as go\n",
    "import math\n",
    "from scipy.io.wavfile import write\n",
    "import scipy.signal\n",
    "import IPython.display as ipd\n",
    "sr=44100\n",
    "duration=2\n",
    "filename = r\"voc.mp3\""
   ]
  },
  {
   "cell_type": "code",
   "execution_count": 85,
   "outputs": [],
   "source": [
    "whale_song, _ = librosa.load(filename, sr)\n",
    "whale_song=whale_song[int(33*sr):int((33+duration)*sr)]\n",
    "whale_song, _ = librosa.effects.trim(whale_song)"
   ],
   "metadata": {
    "collapsed": false,
    "pycharm": {
     "name": "#%%\n"
    }
   }
  },
  {
   "cell_type": "code",
   "execution_count": 86,
   "outputs": [],
   "source": [
    "amplitude = 2048; freq=2**10\n",
    "t = np.linspace(0, duration, int(sr * duration))\n",
    "# whale_song = amplitude * np.sin(2 * np.pi * freq * t)"
   ],
   "metadata": {
    "collapsed": false,
    "pycharm": {
     "name": "#%%\n"
    }
   }
  },
  {
   "cell_type": "code",
   "execution_count": null,
   "outputs": [],
   "source": [
    "fig = px.line(whale_song)\n",
    "fig.show()\n",
    "ipd.Audio(whale_song, rate=sr)"
   ],
   "metadata": {
    "collapsed": false,
    "pycharm": {
     "name": "#%%\n",
     "is_executing": true
    }
   }
  },
  {
   "cell_type": "code",
   "execution_count": null,
   "outputs": [],
   "source": [
    "f, t, stft = scipy.signal.stft(whale_song, sr)\n",
    "stft_real = np.real(stft)\n",
    "stft_imag = np.imag(stft)"
   ],
   "metadata": {
    "collapsed": false,
    "pycharm": {
     "name": "#%%\n",
     "is_executing": true
    }
   }
  },
  {
   "cell_type": "code",
   "execution_count": null,
   "outputs": [],
   "source": [
    "notes_freq = np.arange(1,11)\n",
    "notes_freq = 16.352*pow(2,notes_freq)\n",
    "\n",
    "fmin=16.352\n",
    "mel_tensor=[]\n",
    "for i, fmax in enumerate(notes_freq):\n",
    "    hop_length=sr//40; n_mels=64\n",
    "    n_fft=[2**14,2**13,2**12,2**11,2**11,2**11,2**11]\n",
    "    n_fft=n_fft[min(i,len(n_fft)-1)]\n",
    "    S = librosa.power_to_db(\n",
    "           librosa.feature.melspectrogram(\n",
    "               whale_song, sr=sr, n_fft=n_fft, hop_length=hop_length,\n",
    "               n_mels=n_mels, fmin=fmin, fmax=fmax),\n",
    "        ref=np.max)\n",
    "    librosa.display.specshow(S, sr=sr, x_axis='time', y_axis='mel',\n",
    "                             hop_length=hop_length, fmax=fmax, fmin=fmin)\n",
    "    plt.colorbar(format='%+2.0f dB')\n",
    "    plt.show()\n",
    "    fmin=fmax\n",
    "    mel_tensor.append(S)\n",
    "mel_tensor=np.array(mel_tensor)\n",
    "\n"
   ],
   "metadata": {
    "collapsed": false,
    "pycharm": {
     "name": "#%%\n",
     "is_executing": true
    }
   }
  },
  {
   "cell_type": "code",
   "execution_count": null,
   "outputs": [],
   "source": [
    "\n",
    "\n"
   ],
   "metadata": {
    "collapsed": false,
    "pycharm": {
     "name": "#%%\n",
     "is_executing": true
    }
   }
  }
 ],
 "metadata": {
  "kernelspec": {
   "display_name": "Python 3",
   "language": "python",
   "name": "python3"
  },
  "language_info": {
   "codemirror_mode": {
    "name": "ipython",
    "version": 2
   },
   "file_extension": ".py",
   "mimetype": "text/x-python",
   "name": "python",
   "nbconvert_exporter": "python",
   "pygments_lexer": "ipython2",
   "version": "2.7.6"
  }
 },
 "nbformat": 4,
 "nbformat_minor": 0
}