{
 "cells": [
  {
   "cell_type": "code",
   "execution_count": 1,
   "outputs": [],
   "source": [
    "# %reset\n",
    "import pandas as pd\n",
    "import matplotlib.pyplot as plt\n",
    "import seaborn as sns\n",
    "import numpy as np\n",
    "from sklearn.manifold import TSNE\n",
    "from sklearn import metrics\n",
    "import math\n",
    "from sklearn.decomposition import PCA\n",
    "import pickle\n",
    "import plotly.graph_objs as go\n",
    "from sklearn.metrics import mean_squared_error\n",
    "from plotly.subplots import make_subplots\n",
    "import plotly.express as px\n",
    "import plotly.figure_factory as ff\n",
    "from sklearn.cluster import DBSCAN, KMeans, AgglomerativeClustering\n",
    "from sklearn.preprocessing import minmax_scale\n",
    "from sklearn.preprocessing import robust_scale\n",
    "from sklearn.naive_bayes import GaussianNB\n",
    "from sklearn.feature_selection import SelectKBest, f_classif\n",
    "from sklearn.svm import SVC\n",
    "from sklearn.feature_selection import SelectFromModel\n",
    "from sklearn.model_selection import GridSearchCV, train_test_split\n",
    "from imblearn.over_sampling import SMOTE\n",
    "from imblearn.pipeline import make_pipeline\n",
    "from sklearn.linear_model import LogisticRegression\n",
    "from sklearn.metrics import accuracy_score\n",
    "from sklearn.metrics import precision_score, recall_score, confusion_matrix\n",
    "from sklearn.metrics import f1_score, roc_auc_score, roc_curve\n",
    "from sklearn.model_selection import train_test_split\n",
    "from sklearn.model_selection import GridSearchCV\n",
    "from sklearn.utils import shuffle\n",
    "from warnings import simplefilter\n",
    "from sklearn.neighbors import KNeighborsClassifier\n",
    "from sklearn.tree import DecisionTreeClassifier\n",
    "from sklearn.ensemble import RandomForestClassifier\n",
    "from sklearn.exceptions import ConvergenceWarning\n",
    "simplefilter(\"ignore\", category=ConvergenceWarning)"
   ],
   "metadata": {
    "collapsed": false,
    "pycharm": {
     "name": "#%%\n"
    }
   }
  },
  {
   "cell_type": "code",
   "execution_count": 2,
   "outputs": [],
   "source": [
    "from os import listdir\n",
    "df=shuffle(pd.read_parquet('src_data/'+listdir('src_data/')[0])).sample(320000)\n",
    "\n",
    "for f in listdir('src_data/')[1:]:\n",
    "    if f.split('.')[-1]!='pqt': continue\n",
    "    df=pd.concat([df, pd.read_parquet('src_data/'+f).loc[df.index]], axis=1)\n",
    "df=df[df.describe().columns].convert_dtypes('Float64')\n",
    "del listdir"
   ],
   "metadata": {
    "collapsed": false,
    "pycharm": {
     "name": "#%%\n"
    }
   }
  },
  {
   "cell_type": "code",
   "execution_count": 3,
   "outputs": [
    {
     "data": {
      "text/plain": "       device_os_svd_2  device_app_svd_3  device_channel_svd_3  \\\ncount    253757.000000     253757.000000         253757.000000   \nmean          0.041118          0.042393              0.043208   \nstd           0.175550          0.178532              0.180575   \nmin           0.000000          0.000000              0.000000   \n25%           0.000000          0.000000              0.000000   \n50%           0.000000          0.000000              0.000000   \n75%           0.000000          0.000000              0.000000   \nmax           1.000000          1.000000              1.000000   \n\n       device_channel_svd_1  device_os_svd_1  device_app_svd_1  \\\ncount         253757.000000    253757.000000      2.537570e+05   \nmean               0.036201         0.034081      3.407401e-02   \nstd                0.181550         0.181413      1.814141e-01   \nmin                0.000000         0.000000      0.000000e+00   \n25%                0.000000         0.000000      2.314094e-11   \n50%                0.000000         0.000000      2.314094e-11   \n75%                0.000000         0.000000      2.314094e-11   \nmax                1.000000         1.000000      1.000000e+00   \n\n       app_device_svd_1  os_device_svd_1   app_os_svd_1   os_app_svd_1  ...  \\\ncount      2.537570e+05    253757.000000  253757.000000  253757.000000  ...   \nmean       3.401285e-02         0.031242       0.034189       0.030429  ...   \nstd        1.812625e-01         0.166282       0.181230       0.163004  ...   \nmin        0.000000e+00         0.000000       0.000000       0.000000  ...   \n25%        2.123501e-11         0.000013       0.000061       0.000065  ...   \n50%        3.873968e-11         0.000023       0.000099       0.000189  ...   \n75%        5.639789e-11         0.000026       0.000162       0.000224  ...   \nmax        1.000000e+00         1.000000       1.000000       1.000000  ...   \n\n       device_os_svd_4  device_channel_svd_2  device_app_svd_4  \\\ncount    253757.000000         253757.000000     253757.000000   \nmean          0.894663              0.972336          0.972817   \nstd           0.146435              0.158561          0.158504   \nmin           0.000000              0.000000          0.000000   \n25%           0.915358              1.000000          1.000000   \n50%           0.915358              1.000000          1.000000   \n75%           0.915358              1.000000          1.000000   \nmax           1.000000              1.000000          1.000000   \n\n       device_os_svd_3   device_count  device_app_svd_2  device_os_svd_0  \\\ncount    253757.000000  253757.000000     253757.000000    253757.000000   \nmean          0.943056       0.941853          0.972925         0.939889   \nstd           0.225758       0.228564          0.158496         0.236299   \nmin           0.000000       0.000000          0.000000         0.000000   \n25%           1.000000       1.000000          1.000000         1.000000   \n50%           1.000000       1.000000          1.000000         1.000000   \n75%           1.000000       1.000000          1.000000         1.000000   \nmax           1.000000       1.000000          1.000000         1.000000   \n\n       device_channel_svd_0  device_app_svd_0  is_attributed  \ncount         253757.000000     253757.000000  253757.000000  \nmean               0.941086          0.940213       0.157631  \nstd                0.231574          0.235048       0.364395  \nmin                0.000000          0.000000       0.000000  \n25%                1.000000          1.000000       0.000000  \n50%                1.000000          1.000000       0.000000  \n75%                1.000000          1.000000       0.000000  \nmax                1.000000          1.000000       1.000000  \n\n[8 rows x 92 columns]",
      "text/html": "<div>\n<style scoped>\n    .dataframe tbody tr th:only-of-type {\n        vertical-align: middle;\n    }\n\n    .dataframe tbody tr th {\n        vertical-align: top;\n    }\n\n    .dataframe thead th {\n        text-align: right;\n    }\n</style>\n<table border=\"1\" class=\"dataframe\">\n  <thead>\n    <tr style=\"text-align: right;\">\n      <th></th>\n      <th>device_os_svd_2</th>\n      <th>device_app_svd_3</th>\n      <th>device_channel_svd_3</th>\n      <th>device_channel_svd_1</th>\n      <th>device_os_svd_1</th>\n      <th>device_app_svd_1</th>\n      <th>app_device_svd_1</th>\n      <th>os_device_svd_1</th>\n      <th>app_os_svd_1</th>\n      <th>os_app_svd_1</th>\n      <th>...</th>\n      <th>device_os_svd_4</th>\n      <th>device_channel_svd_2</th>\n      <th>device_app_svd_4</th>\n      <th>device_os_svd_3</th>\n      <th>device_count</th>\n      <th>device_app_svd_2</th>\n      <th>device_os_svd_0</th>\n      <th>device_channel_svd_0</th>\n      <th>device_app_svd_0</th>\n      <th>is_attributed</th>\n    </tr>\n  </thead>\n  <tbody>\n    <tr>\n      <th>count</th>\n      <td>253757.000000</td>\n      <td>253757.000000</td>\n      <td>253757.000000</td>\n      <td>253757.000000</td>\n      <td>253757.000000</td>\n      <td>2.537570e+05</td>\n      <td>2.537570e+05</td>\n      <td>253757.000000</td>\n      <td>253757.000000</td>\n      <td>253757.000000</td>\n      <td>...</td>\n      <td>253757.000000</td>\n      <td>253757.000000</td>\n      <td>253757.000000</td>\n      <td>253757.000000</td>\n      <td>253757.000000</td>\n      <td>253757.000000</td>\n      <td>253757.000000</td>\n      <td>253757.000000</td>\n      <td>253757.000000</td>\n      <td>253757.000000</td>\n    </tr>\n    <tr>\n      <th>mean</th>\n      <td>0.041118</td>\n      <td>0.042393</td>\n      <td>0.043208</td>\n      <td>0.036201</td>\n      <td>0.034081</td>\n      <td>3.407401e-02</td>\n      <td>3.401285e-02</td>\n      <td>0.031242</td>\n      <td>0.034189</td>\n      <td>0.030429</td>\n      <td>...</td>\n      <td>0.894663</td>\n      <td>0.972336</td>\n      <td>0.972817</td>\n      <td>0.943056</td>\n      <td>0.941853</td>\n      <td>0.972925</td>\n      <td>0.939889</td>\n      <td>0.941086</td>\n      <td>0.940213</td>\n      <td>0.157631</td>\n    </tr>\n    <tr>\n      <th>std</th>\n      <td>0.175550</td>\n      <td>0.178532</td>\n      <td>0.180575</td>\n      <td>0.181550</td>\n      <td>0.181413</td>\n      <td>1.814141e-01</td>\n      <td>1.812625e-01</td>\n      <td>0.166282</td>\n      <td>0.181230</td>\n      <td>0.163004</td>\n      <td>...</td>\n      <td>0.146435</td>\n      <td>0.158561</td>\n      <td>0.158504</td>\n      <td>0.225758</td>\n      <td>0.228564</td>\n      <td>0.158496</td>\n      <td>0.236299</td>\n      <td>0.231574</td>\n      <td>0.235048</td>\n      <td>0.364395</td>\n    </tr>\n    <tr>\n      <th>min</th>\n      <td>0.000000</td>\n      <td>0.000000</td>\n      <td>0.000000</td>\n      <td>0.000000</td>\n      <td>0.000000</td>\n      <td>0.000000e+00</td>\n      <td>0.000000e+00</td>\n      <td>0.000000</td>\n      <td>0.000000</td>\n      <td>0.000000</td>\n      <td>...</td>\n      <td>0.000000</td>\n      <td>0.000000</td>\n      <td>0.000000</td>\n      <td>0.000000</td>\n      <td>0.000000</td>\n      <td>0.000000</td>\n      <td>0.000000</td>\n      <td>0.000000</td>\n      <td>0.000000</td>\n      <td>0.000000</td>\n    </tr>\n    <tr>\n      <th>25%</th>\n      <td>0.000000</td>\n      <td>0.000000</td>\n      <td>0.000000</td>\n      <td>0.000000</td>\n      <td>0.000000</td>\n      <td>2.314094e-11</td>\n      <td>2.123501e-11</td>\n      <td>0.000013</td>\n      <td>0.000061</td>\n      <td>0.000065</td>\n      <td>...</td>\n      <td>0.915358</td>\n      <td>1.000000</td>\n      <td>1.000000</td>\n      <td>1.000000</td>\n      <td>1.000000</td>\n      <td>1.000000</td>\n      <td>1.000000</td>\n      <td>1.000000</td>\n      <td>1.000000</td>\n      <td>0.000000</td>\n    </tr>\n    <tr>\n      <th>50%</th>\n      <td>0.000000</td>\n      <td>0.000000</td>\n      <td>0.000000</td>\n      <td>0.000000</td>\n      <td>0.000000</td>\n      <td>2.314094e-11</td>\n      <td>3.873968e-11</td>\n      <td>0.000023</td>\n      <td>0.000099</td>\n      <td>0.000189</td>\n      <td>...</td>\n      <td>0.915358</td>\n      <td>1.000000</td>\n      <td>1.000000</td>\n      <td>1.000000</td>\n      <td>1.000000</td>\n      <td>1.000000</td>\n      <td>1.000000</td>\n      <td>1.000000</td>\n      <td>1.000000</td>\n      <td>0.000000</td>\n    </tr>\n    <tr>\n      <th>75%</th>\n      <td>0.000000</td>\n      <td>0.000000</td>\n      <td>0.000000</td>\n      <td>0.000000</td>\n      <td>0.000000</td>\n      <td>2.314094e-11</td>\n      <td>5.639789e-11</td>\n      <td>0.000026</td>\n      <td>0.000162</td>\n      <td>0.000224</td>\n      <td>...</td>\n      <td>0.915358</td>\n      <td>1.000000</td>\n      <td>1.000000</td>\n      <td>1.000000</td>\n      <td>1.000000</td>\n      <td>1.000000</td>\n      <td>1.000000</td>\n      <td>1.000000</td>\n      <td>1.000000</td>\n      <td>0.000000</td>\n    </tr>\n    <tr>\n      <th>max</th>\n      <td>1.000000</td>\n      <td>1.000000</td>\n      <td>1.000000</td>\n      <td>1.000000</td>\n      <td>1.000000</td>\n      <td>1.000000e+00</td>\n      <td>1.000000e+00</td>\n      <td>1.000000</td>\n      <td>1.000000</td>\n      <td>1.000000</td>\n      <td>...</td>\n      <td>1.000000</td>\n      <td>1.000000</td>\n      <td>1.000000</td>\n      <td>1.000000</td>\n      <td>1.000000</td>\n      <td>1.000000</td>\n      <td>1.000000</td>\n      <td>1.000000</td>\n      <td>1.000000</td>\n      <td>1.000000</td>\n    </tr>\n  </tbody>\n</table>\n<p>8 rows × 92 columns</p>\n</div>"
     },
     "metadata": {},
     "output_type": "display_data"
    },
    {
     "data": {
      "text/plain": "count    320000.000000\nmean          0.199044\nstd           0.399282\nmin           0.000000\n25%           0.000000\n50%           0.000000\n75%           0.000000\nmax           1.000000\nName: is_attributed, dtype: float64"
     },
     "metadata": {},
     "output_type": "display_data"
    }
   ],
   "source": [
    "df_attributed = df['is_attributed'].astype('int')\n",
    "df=df.drop('is_attributed', axis=1)\n",
    "df=(df-df.quantile(0.02))/(df.quantile(0.95)-df.quantile(0.01))-0.5\n",
    "df=df.apply(lambda col: col.apply(lambda v: v if np.isscalar(v)\n",
    "            and 0.5>=v>=-0.5 else np.sign(v)*math.log(abs(v*8)+1,5)/2))\n",
    "df = df[~((df<df.quantile(0.01)) | (df>df.quantile(0.99))).any(axis=1)]\n",
    "df=(df-df.min())/(df.max()-df.min())\n",
    "df=df[df.median().sort_values().index]\n",
    "\n",
    "df['is_attributed']=df_attributed.loc[df.index]\n",
    "\n",
    "display(df.describe())\n",
    "display(df_attributed.describe())\n",
    "df_source=df"
   ],
   "metadata": {
    "collapsed": false,
    "pycharm": {
     "name": "#%%\n"
    }
   }
  },
  {
   "cell_type": "code",
   "execution_count": 11,
   "outputs": [
    {
     "data": {
      "text/plain": "                 0             1             2             3             4   \\\ncount  2.537570e+05  2.537570e+05  2.537570e+05  2.537570e+05  2.537570e+05   \nmean  -7.571447e-17 -4.257539e-17  4.312140e-18  3.861326e-17 -1.058434e-17   \nstd    1.037138e+00  8.741859e-01  7.397236e-01  6.436235e-01  6.153795e-01   \nmin   -1.731410e+00 -1.538654e+00 -1.162652e+00 -1.317297e+00 -1.265410e+00   \n25%   -7.223774e-01 -5.443663e-01 -4.830957e-01 -4.204048e-01 -4.503977e-01   \n50%    3.542787e-01 -1.963659e-01 -2.019186e-01 -1.373168e-01 -1.828514e-01   \n75%    6.986189e-01  4.781840e-01  1.155238e-01  3.602293e-01  3.050447e-01   \nmax    2.904399e+00  3.369386e+00  2.910846e+00  2.628750e+00  1.703004e+00   \n\n                 5             6             7             8             9   \\\ncount  2.537570e+05  2.537570e+05  2.537570e+05  2.537570e+05  2.537570e+05   \nmean   2.969497e-17 -5.989395e-17 -4.250538e-17 -9.089096e-17  4.722354e-17   \nstd    5.817543e-01  5.729090e-01  5.209250e-01  4.568158e-01  3.595626e-01   \nmin   -8.429111e-01 -1.244605e+00 -1.067371e+00 -1.086681e+00 -1.022311e+00   \n25%   -3.242544e-01 -4.395494e-01 -3.385943e-01 -3.250936e-01 -2.160490e-01   \n50%   -1.780317e-01 -8.801774e-02 -3.830221e-02 -4.641890e-02  3.077354e-04   \n75%    2.796412e-02  4.934691e-01  2.343247e-01  3.795762e-01  2.229384e-01   \nmax    2.267549e+00  1.302074e+00  3.180085e+00  2.592405e+00  1.228948e+00   \n\n       ...            81            82            83            84  \\\ncount  ...  2.537570e+05  2.537570e+05  2.537570e+05  2.537570e+05   \nmean   ...  2.510004e-17  4.170230e-16 -2.638980e-18 -1.542333e-18   \nstd    ...  1.011847e-15  4.962407e-17  1.527743e-16  7.961912e-17   \nmin    ... -1.714951e-15 -3.138091e-16 -1.029447e-15 -1.075350e-15   \n25%    ... -8.753589e-17  4.043664e-16 -7.274695e-17 -5.880166e-17   \n50%    ...  3.736420e-17  4.251831e-16  1.051977e-17  3.648387e-18   \n75%    ...  1.414476e-16  4.459998e-16  7.990871e-17  5.222064e-17   \nmax    ...  3.326252e-14  5.708998e-16  6.830487e-16  5.899849e-16   \n\n                 85            86            87            88            89  \\\ncount  2.537570e+05  2.537570e+05  2.537570e+05  2.537570e+05  2.537570e+05   \nmean   2.072803e-18  6.824342e-18  9.567759e-19  3.862930e-18 -2.320087e-18   \nstd    1.603500e-16  2.079954e-16  1.259405e-16  1.120439e-16  6.849517e-17   \nmin   -9.883421e-16 -1.419755e-15 -5.052823e-16 -5.337415e-16 -3.537006e-16   \n25%   -7.847965e-17 -9.052348e-17 -6.232458e-17 -1.593600e-17 -3.069689e-17   \n50%    1.172597e-17 -1.766509e-17 -1.028287e-17 -2.058209e-18  3.997579e-18   \n75%    1.019316e-16  1.627461e-16  4.175883e-17  1.875847e-17  3.175315e-17   \nmax    2.019668e-15  8.100718e-16  8.536094e-16  5.199582e-16  3.164210e-16   \n\n                 90  \ncount  2.537570e+05  \nmean  -6.230255e-18  \nstd    5.175018e-16  \nmin   -2.284189e-15  \n25%   -3.139763e-16  \n50%    5.212797e-18  \n75%    3.244019e-16  \nmax    7.506591e-15  \n\n[8 rows x 91 columns]",
      "text/html": "<div>\n<style scoped>\n    .dataframe tbody tr th:only-of-type {\n        vertical-align: middle;\n    }\n\n    .dataframe tbody tr th {\n        vertical-align: top;\n    }\n\n    .dataframe thead th {\n        text-align: right;\n    }\n</style>\n<table border=\"1\" class=\"dataframe\">\n  <thead>\n    <tr style=\"text-align: right;\">\n      <th></th>\n      <th>0</th>\n      <th>1</th>\n      <th>2</th>\n      <th>3</th>\n      <th>4</th>\n      <th>5</th>\n      <th>6</th>\n      <th>7</th>\n      <th>8</th>\n      <th>9</th>\n      <th>...</th>\n      <th>81</th>\n      <th>82</th>\n      <th>83</th>\n      <th>84</th>\n      <th>85</th>\n      <th>86</th>\n      <th>87</th>\n      <th>88</th>\n      <th>89</th>\n      <th>90</th>\n    </tr>\n  </thead>\n  <tbody>\n    <tr>\n      <th>count</th>\n      <td>2.537570e+05</td>\n      <td>2.537570e+05</td>\n      <td>2.537570e+05</td>\n      <td>2.537570e+05</td>\n      <td>2.537570e+05</td>\n      <td>2.537570e+05</td>\n      <td>2.537570e+05</td>\n      <td>2.537570e+05</td>\n      <td>2.537570e+05</td>\n      <td>2.537570e+05</td>\n      <td>...</td>\n      <td>2.537570e+05</td>\n      <td>2.537570e+05</td>\n      <td>2.537570e+05</td>\n      <td>2.537570e+05</td>\n      <td>2.537570e+05</td>\n      <td>2.537570e+05</td>\n      <td>2.537570e+05</td>\n      <td>2.537570e+05</td>\n      <td>2.537570e+05</td>\n      <td>2.537570e+05</td>\n    </tr>\n    <tr>\n      <th>mean</th>\n      <td>-7.571447e-17</td>\n      <td>-4.257539e-17</td>\n      <td>4.312140e-18</td>\n      <td>3.861326e-17</td>\n      <td>-1.058434e-17</td>\n      <td>2.969497e-17</td>\n      <td>-5.989395e-17</td>\n      <td>-4.250538e-17</td>\n      <td>-9.089096e-17</td>\n      <td>4.722354e-17</td>\n      <td>...</td>\n      <td>2.510004e-17</td>\n      <td>4.170230e-16</td>\n      <td>-2.638980e-18</td>\n      <td>-1.542333e-18</td>\n      <td>2.072803e-18</td>\n      <td>6.824342e-18</td>\n      <td>9.567759e-19</td>\n      <td>3.862930e-18</td>\n      <td>-2.320087e-18</td>\n      <td>-6.230255e-18</td>\n    </tr>\n    <tr>\n      <th>std</th>\n      <td>1.037138e+00</td>\n      <td>8.741859e-01</td>\n      <td>7.397236e-01</td>\n      <td>6.436235e-01</td>\n      <td>6.153795e-01</td>\n      <td>5.817543e-01</td>\n      <td>5.729090e-01</td>\n      <td>5.209250e-01</td>\n      <td>4.568158e-01</td>\n      <td>3.595626e-01</td>\n      <td>...</td>\n      <td>1.011847e-15</td>\n      <td>4.962407e-17</td>\n      <td>1.527743e-16</td>\n      <td>7.961912e-17</td>\n      <td>1.603500e-16</td>\n      <td>2.079954e-16</td>\n      <td>1.259405e-16</td>\n      <td>1.120439e-16</td>\n      <td>6.849517e-17</td>\n      <td>5.175018e-16</td>\n    </tr>\n    <tr>\n      <th>min</th>\n      <td>-1.731410e+00</td>\n      <td>-1.538654e+00</td>\n      <td>-1.162652e+00</td>\n      <td>-1.317297e+00</td>\n      <td>-1.265410e+00</td>\n      <td>-8.429111e-01</td>\n      <td>-1.244605e+00</td>\n      <td>-1.067371e+00</td>\n      <td>-1.086681e+00</td>\n      <td>-1.022311e+00</td>\n      <td>...</td>\n      <td>-1.714951e-15</td>\n      <td>-3.138091e-16</td>\n      <td>-1.029447e-15</td>\n      <td>-1.075350e-15</td>\n      <td>-9.883421e-16</td>\n      <td>-1.419755e-15</td>\n      <td>-5.052823e-16</td>\n      <td>-5.337415e-16</td>\n      <td>-3.537006e-16</td>\n      <td>-2.284189e-15</td>\n    </tr>\n    <tr>\n      <th>25%</th>\n      <td>-7.223774e-01</td>\n      <td>-5.443663e-01</td>\n      <td>-4.830957e-01</td>\n      <td>-4.204048e-01</td>\n      <td>-4.503977e-01</td>\n      <td>-3.242544e-01</td>\n      <td>-4.395494e-01</td>\n      <td>-3.385943e-01</td>\n      <td>-3.250936e-01</td>\n      <td>-2.160490e-01</td>\n      <td>...</td>\n      <td>-8.753589e-17</td>\n      <td>4.043664e-16</td>\n      <td>-7.274695e-17</td>\n      <td>-5.880166e-17</td>\n      <td>-7.847965e-17</td>\n      <td>-9.052348e-17</td>\n      <td>-6.232458e-17</td>\n      <td>-1.593600e-17</td>\n      <td>-3.069689e-17</td>\n      <td>-3.139763e-16</td>\n    </tr>\n    <tr>\n      <th>50%</th>\n      <td>3.542787e-01</td>\n      <td>-1.963659e-01</td>\n      <td>-2.019186e-01</td>\n      <td>-1.373168e-01</td>\n      <td>-1.828514e-01</td>\n      <td>-1.780317e-01</td>\n      <td>-8.801774e-02</td>\n      <td>-3.830221e-02</td>\n      <td>-4.641890e-02</td>\n      <td>3.077354e-04</td>\n      <td>...</td>\n      <td>3.736420e-17</td>\n      <td>4.251831e-16</td>\n      <td>1.051977e-17</td>\n      <td>3.648387e-18</td>\n      <td>1.172597e-17</td>\n      <td>-1.766509e-17</td>\n      <td>-1.028287e-17</td>\n      <td>-2.058209e-18</td>\n      <td>3.997579e-18</td>\n      <td>5.212797e-18</td>\n    </tr>\n    <tr>\n      <th>75%</th>\n      <td>6.986189e-01</td>\n      <td>4.781840e-01</td>\n      <td>1.155238e-01</td>\n      <td>3.602293e-01</td>\n      <td>3.050447e-01</td>\n      <td>2.796412e-02</td>\n      <td>4.934691e-01</td>\n      <td>2.343247e-01</td>\n      <td>3.795762e-01</td>\n      <td>2.229384e-01</td>\n      <td>...</td>\n      <td>1.414476e-16</td>\n      <td>4.459998e-16</td>\n      <td>7.990871e-17</td>\n      <td>5.222064e-17</td>\n      <td>1.019316e-16</td>\n      <td>1.627461e-16</td>\n      <td>4.175883e-17</td>\n      <td>1.875847e-17</td>\n      <td>3.175315e-17</td>\n      <td>3.244019e-16</td>\n    </tr>\n    <tr>\n      <th>max</th>\n      <td>2.904399e+00</td>\n      <td>3.369386e+00</td>\n      <td>2.910846e+00</td>\n      <td>2.628750e+00</td>\n      <td>1.703004e+00</td>\n      <td>2.267549e+00</td>\n      <td>1.302074e+00</td>\n      <td>3.180085e+00</td>\n      <td>2.592405e+00</td>\n      <td>1.228948e+00</td>\n      <td>...</td>\n      <td>3.326252e-14</td>\n      <td>5.708998e-16</td>\n      <td>6.830487e-16</td>\n      <td>5.899849e-16</td>\n      <td>2.019668e-15</td>\n      <td>8.100718e-16</td>\n      <td>8.536094e-16</td>\n      <td>5.199582e-16</td>\n      <td>3.164210e-16</td>\n      <td>7.506591e-15</td>\n    </tr>\n  </tbody>\n</table>\n<p>8 rows × 91 columns</p>\n</div>"
     },
     "execution_count": 11,
     "metadata": {},
     "output_type": "execute_result"
    }
   ],
   "source": [
    "df=df_source\n",
    "df_target=df['is_attributed'];df=df.drop('is_attributed', axis=1)\n",
    "pca_module = PCA()\n",
    "pca_module.fit(df)\n",
    "pca_comp=pca_module.transform(df)\n",
    "pca_comp=pd.DataFrame(pca_comp).set_index(df.index)#.iloc[:,:32]\n",
    "df=pca_comp\n",
    "df.describe()"
   ],
   "metadata": {
    "collapsed": false,
    "pycharm": {
     "name": "#%%\n"
    }
   }
  },
  {
   "cell_type": "code",
   "execution_count": 13,
   "outputs": [
    {
     "data": {
      "text/plain": "                 0             1             2             3             4   \\\ncount  2.537570e+05  2.537570e+05  2.537570e+05  2.537570e+05  2.537570e+05   \nmean  -7.571447e-17 -4.257539e-17  4.312140e-18  3.861326e-17 -1.058434e-17   \nstd    1.037138e+00  8.741859e-01  7.397236e-01  6.436235e-01  6.153795e-01   \nmin   -1.731410e+00 -1.538654e+00 -1.162652e+00 -1.317297e+00 -1.265410e+00   \n25%   -7.223774e-01 -5.443663e-01 -4.830957e-01 -4.204048e-01 -4.503977e-01   \n50%    3.542787e-01 -1.963659e-01 -2.019186e-01 -1.373168e-01 -1.828514e-01   \n75%    6.986189e-01  4.781840e-01  1.155238e-01  3.602293e-01  3.050447e-01   \nmax    2.904399e+00  3.369386e+00  2.910846e+00  2.628750e+00  1.703004e+00   \n\n                 5             6             7             8             9   \\\ncount  2.537570e+05  2.537570e+05  2.537570e+05  2.537570e+05  2.537570e+05   \nmean   2.969497e-17 -5.989395e-17 -4.250538e-17 -9.089096e-17  4.722354e-17   \nstd    5.817543e-01  5.729090e-01  5.209250e-01  4.568158e-01  3.595626e-01   \nmin   -8.429111e-01 -1.244605e+00 -1.067371e+00 -1.086681e+00 -1.022311e+00   \n25%   -3.242544e-01 -4.395494e-01 -3.385943e-01 -3.250936e-01 -2.160490e-01   \n50%   -1.780317e-01 -8.801774e-02 -3.830221e-02 -4.641890e-02  3.077354e-04   \n75%    2.796412e-02  4.934691e-01  2.343247e-01  3.795762e-01  2.229384e-01   \nmax    2.267549e+00  1.302074e+00  3.180085e+00  2.592405e+00  1.228948e+00   \n\n       ...            53            54            55            56  \\\ncount  ...  2.537570e+05  2.537570e+05  2.537570e+05  2.537570e+05   \nmean   ...  4.989412e-18  3.344621e-17 -1.133394e-16  1.210573e-16   \nstd    ...  1.990104e-02  1.343140e-02  1.163198e-02  9.010251e-03   \nmin    ... -1.309633e-01 -9.235914e-02 -5.044168e-02 -4.600067e-02   \n25%    ... -5.409256e-03 -4.148888e-03 -6.803566e-03 -4.300216e-03   \n50%    ... -6.577685e-04 -1.165870e-04 -5.622907e-06  3.731796e-04   \n75%    ...  4.972987e-03  1.714155e-03  7.267643e-03  4.366496e-03   \nmax    ...  3.095991e-01  1.045693e-01  6.827440e-02  5.224934e-02   \n\n                 57            58            59            60            62  \\\ncount  2.537570e+05  2.537570e+05  2.537570e+05  2.537570e+05  2.537570e+05   \nmean   5.189838e-17  7.062005e-17  4.437269e-18 -5.231380e-17 -1.881727e-17   \nstd    8.102932e-03  7.015439e-03  6.618327e-03  5.218810e-03  4.758338e-03   \nmin   -3.375120e-02 -3.501111e-02 -4.987765e-02 -1.812416e-02 -3.064098e-02   \n25%   -1.758406e-03 -3.699929e-03 -2.466012e-03 -2.043869e-03 -1.834491e-03   \n50%    4.459736e-04  2.906529e-04 -3.320795e-04 -3.565152e-04 -5.950972e-05   \n75%    2.933820e-03  2.877366e-03  2.809515e-03  2.511833e-03  1.539411e-03   \nmax    4.053291e-02  5.635270e-02  6.369975e-02  3.917342e-02  3.377294e-02   \n\n                 65  \ncount  2.537570e+05  \nmean   6.240156e-18  \nstd    1.916538e-03  \nmin   -1.701810e-02  \n25%   -3.338619e-04  \n50%    5.686164e-05  \n75%    4.014022e-04  \nmax    1.823572e-02  \n\n[8 rows x 62 columns]",
      "text/html": "<div>\n<style scoped>\n    .dataframe tbody tr th:only-of-type {\n        vertical-align: middle;\n    }\n\n    .dataframe tbody tr th {\n        vertical-align: top;\n    }\n\n    .dataframe thead th {\n        text-align: right;\n    }\n</style>\n<table border=\"1\" class=\"dataframe\">\n  <thead>\n    <tr style=\"text-align: right;\">\n      <th></th>\n      <th>0</th>\n      <th>1</th>\n      <th>2</th>\n      <th>3</th>\n      <th>4</th>\n      <th>5</th>\n      <th>6</th>\n      <th>7</th>\n      <th>8</th>\n      <th>9</th>\n      <th>...</th>\n      <th>53</th>\n      <th>54</th>\n      <th>55</th>\n      <th>56</th>\n      <th>57</th>\n      <th>58</th>\n      <th>59</th>\n      <th>60</th>\n      <th>62</th>\n      <th>65</th>\n    </tr>\n  </thead>\n  <tbody>\n    <tr>\n      <th>count</th>\n      <td>2.537570e+05</td>\n      <td>2.537570e+05</td>\n      <td>2.537570e+05</td>\n      <td>2.537570e+05</td>\n      <td>2.537570e+05</td>\n      <td>2.537570e+05</td>\n      <td>2.537570e+05</td>\n      <td>2.537570e+05</td>\n      <td>2.537570e+05</td>\n      <td>2.537570e+05</td>\n      <td>...</td>\n      <td>2.537570e+05</td>\n      <td>2.537570e+05</td>\n      <td>2.537570e+05</td>\n      <td>2.537570e+05</td>\n      <td>2.537570e+05</td>\n      <td>2.537570e+05</td>\n      <td>2.537570e+05</td>\n      <td>2.537570e+05</td>\n      <td>2.537570e+05</td>\n      <td>2.537570e+05</td>\n    </tr>\n    <tr>\n      <th>mean</th>\n      <td>-7.571447e-17</td>\n      <td>-4.257539e-17</td>\n      <td>4.312140e-18</td>\n      <td>3.861326e-17</td>\n      <td>-1.058434e-17</td>\n      <td>2.969497e-17</td>\n      <td>-5.989395e-17</td>\n      <td>-4.250538e-17</td>\n      <td>-9.089096e-17</td>\n      <td>4.722354e-17</td>\n      <td>...</td>\n      <td>4.989412e-18</td>\n      <td>3.344621e-17</td>\n      <td>-1.133394e-16</td>\n      <td>1.210573e-16</td>\n      <td>5.189838e-17</td>\n      <td>7.062005e-17</td>\n      <td>4.437269e-18</td>\n      <td>-5.231380e-17</td>\n      <td>-1.881727e-17</td>\n      <td>6.240156e-18</td>\n    </tr>\n    <tr>\n      <th>std</th>\n      <td>1.037138e+00</td>\n      <td>8.741859e-01</td>\n      <td>7.397236e-01</td>\n      <td>6.436235e-01</td>\n      <td>6.153795e-01</td>\n      <td>5.817543e-01</td>\n      <td>5.729090e-01</td>\n      <td>5.209250e-01</td>\n      <td>4.568158e-01</td>\n      <td>3.595626e-01</td>\n      <td>...</td>\n      <td>1.990104e-02</td>\n      <td>1.343140e-02</td>\n      <td>1.163198e-02</td>\n      <td>9.010251e-03</td>\n      <td>8.102932e-03</td>\n      <td>7.015439e-03</td>\n      <td>6.618327e-03</td>\n      <td>5.218810e-03</td>\n      <td>4.758338e-03</td>\n      <td>1.916538e-03</td>\n    </tr>\n    <tr>\n      <th>min</th>\n      <td>-1.731410e+00</td>\n      <td>-1.538654e+00</td>\n      <td>-1.162652e+00</td>\n      <td>-1.317297e+00</td>\n      <td>-1.265410e+00</td>\n      <td>-8.429111e-01</td>\n      <td>-1.244605e+00</td>\n      <td>-1.067371e+00</td>\n      <td>-1.086681e+00</td>\n      <td>-1.022311e+00</td>\n      <td>...</td>\n      <td>-1.309633e-01</td>\n      <td>-9.235914e-02</td>\n      <td>-5.044168e-02</td>\n      <td>-4.600067e-02</td>\n      <td>-3.375120e-02</td>\n      <td>-3.501111e-02</td>\n      <td>-4.987765e-02</td>\n      <td>-1.812416e-02</td>\n      <td>-3.064098e-02</td>\n      <td>-1.701810e-02</td>\n    </tr>\n    <tr>\n      <th>25%</th>\n      <td>-7.223774e-01</td>\n      <td>-5.443663e-01</td>\n      <td>-4.830957e-01</td>\n      <td>-4.204048e-01</td>\n      <td>-4.503977e-01</td>\n      <td>-3.242544e-01</td>\n      <td>-4.395494e-01</td>\n      <td>-3.385943e-01</td>\n      <td>-3.250936e-01</td>\n      <td>-2.160490e-01</td>\n      <td>...</td>\n      <td>-5.409256e-03</td>\n      <td>-4.148888e-03</td>\n      <td>-6.803566e-03</td>\n      <td>-4.300216e-03</td>\n      <td>-1.758406e-03</td>\n      <td>-3.699929e-03</td>\n      <td>-2.466012e-03</td>\n      <td>-2.043869e-03</td>\n      <td>-1.834491e-03</td>\n      <td>-3.338619e-04</td>\n    </tr>\n    <tr>\n      <th>50%</th>\n      <td>3.542787e-01</td>\n      <td>-1.963659e-01</td>\n      <td>-2.019186e-01</td>\n      <td>-1.373168e-01</td>\n      <td>-1.828514e-01</td>\n      <td>-1.780317e-01</td>\n      <td>-8.801774e-02</td>\n      <td>-3.830221e-02</td>\n      <td>-4.641890e-02</td>\n      <td>3.077354e-04</td>\n      <td>...</td>\n      <td>-6.577685e-04</td>\n      <td>-1.165870e-04</td>\n      <td>-5.622907e-06</td>\n      <td>3.731796e-04</td>\n      <td>4.459736e-04</td>\n      <td>2.906529e-04</td>\n      <td>-3.320795e-04</td>\n      <td>-3.565152e-04</td>\n      <td>-5.950972e-05</td>\n      <td>5.686164e-05</td>\n    </tr>\n    <tr>\n      <th>75%</th>\n      <td>6.986189e-01</td>\n      <td>4.781840e-01</td>\n      <td>1.155238e-01</td>\n      <td>3.602293e-01</td>\n      <td>3.050447e-01</td>\n      <td>2.796412e-02</td>\n      <td>4.934691e-01</td>\n      <td>2.343247e-01</td>\n      <td>3.795762e-01</td>\n      <td>2.229384e-01</td>\n      <td>...</td>\n      <td>4.972987e-03</td>\n      <td>1.714155e-03</td>\n      <td>7.267643e-03</td>\n      <td>4.366496e-03</td>\n      <td>2.933820e-03</td>\n      <td>2.877366e-03</td>\n      <td>2.809515e-03</td>\n      <td>2.511833e-03</td>\n      <td>1.539411e-03</td>\n      <td>4.014022e-04</td>\n    </tr>\n    <tr>\n      <th>max</th>\n      <td>2.904399e+00</td>\n      <td>3.369386e+00</td>\n      <td>2.910846e+00</td>\n      <td>2.628750e+00</td>\n      <td>1.703004e+00</td>\n      <td>2.267549e+00</td>\n      <td>1.302074e+00</td>\n      <td>3.180085e+00</td>\n      <td>2.592405e+00</td>\n      <td>1.228948e+00</td>\n      <td>...</td>\n      <td>3.095991e-01</td>\n      <td>1.045693e-01</td>\n      <td>6.827440e-02</td>\n      <td>5.224934e-02</td>\n      <td>4.053291e-02</td>\n      <td>5.635270e-02</td>\n      <td>6.369975e-02</td>\n      <td>3.917342e-02</td>\n      <td>3.377294e-02</td>\n      <td>1.823572e-02</td>\n    </tr>\n  </tbody>\n</table>\n<p>8 rows × 62 columns</p>\n</div>"
     },
     "execution_count": 13,
     "metadata": {},
     "output_type": "execute_result"
    }
   ],
   "source": [
    "X, y = df.values, df_target.values\n",
    "model = SelectFromModel(LogisticRegression(C=1, penalty=\"l1\",\n",
    "                        solver='liblinear', random_state=7).fit(X, y), prefit=True)\n",
    "selected_features = pd.DataFrame(\n",
    "    model.inverse_transform(model.transform(X)),index=df.index, columns=df.columns)\n",
    "to_be_removed = selected_features.columns[selected_features.var() == 0]\n",
    "df=df.drop(to_be_removed, axis=1)\n",
    "df_L1=df\n",
    "df_L1.describe()"
   ],
   "metadata": {
    "collapsed": false,
    "pycharm": {
     "name": "#%%\n"
    }
   }
  },
  {
   "cell_type": "code",
   "execution_count": 16,
   "outputs": [
    {
     "data": {
      "text/plain": "                 0             1             2             3             4   \\\ncount  2.537570e+05  2.537570e+05  2.537570e+05  2.537570e+05  2.537570e+05   \nmean  -7.571447e-17 -4.257539e-17  4.312140e-18  3.861326e-17 -1.058434e-17   \nstd    1.037138e+00  8.741859e-01  7.397236e-01  6.436235e-01  6.153795e-01   \nmin   -1.731410e+00 -1.538654e+00 -1.162652e+00 -1.317297e+00 -1.265410e+00   \n25%   -7.223774e-01 -5.443663e-01 -4.830957e-01 -4.204048e-01 -4.503977e-01   \n50%    3.542787e-01 -1.963659e-01 -2.019186e-01 -1.373168e-01 -1.828514e-01   \n75%    6.986189e-01  4.781840e-01  1.155238e-01  3.602293e-01  3.050447e-01   \nmax    2.904399e+00  3.369386e+00  2.910846e+00  2.628750e+00  1.703004e+00   \n\n                 5             6             7             8             9   \\\ncount  2.537570e+05  2.537570e+05  2.537570e+05  2.537570e+05  2.537570e+05   \nmean   2.969497e-17 -5.989395e-17 -4.250538e-17 -9.089096e-17  4.722354e-17   \nstd    5.817543e-01  5.729090e-01  5.209250e-01  4.568158e-01  3.595626e-01   \nmin   -8.429111e-01 -1.244605e+00 -1.067371e+00 -1.086681e+00 -1.022311e+00   \n25%   -3.242544e-01 -4.395494e-01 -3.385943e-01 -3.250936e-01 -2.160490e-01   \n50%   -1.780317e-01 -8.801774e-02 -3.830221e-02 -4.641890e-02  3.077354e-04   \n75%    2.796412e-02  4.934691e-01  2.343247e-01  3.795762e-01  2.229384e-01   \nmax    2.267549e+00  1.302074e+00  3.180085e+00  2.592405e+00  1.228948e+00   \n\n       ...            52            53            54            55  \\\ncount  ...  2.537570e+05  2.537570e+05  2.537570e+05  2.537570e+05   \nmean   ...  1.218040e-17  4.989412e-18  3.344621e-17 -1.133394e-16   \nstd    ...  2.311468e-02  1.990104e-02  1.343140e-02  1.163198e-02   \nmin    ... -7.804090e-02 -1.309633e-01 -9.235914e-02 -5.044168e-02   \n25%    ... -7.138139e-03 -5.409256e-03 -4.148888e-03 -6.803566e-03   \n50%    ... -1.949518e-03 -6.577685e-04 -1.165870e-04 -5.622907e-06   \n75%    ...  2.313124e-03  4.972987e-03  1.714155e-03  7.267643e-03   \nmax    ...  9.789266e-02  3.095991e-01  1.045693e-01  6.827440e-02   \n\n                 57            58            59            60            62  \\\ncount  2.537570e+05  2.537570e+05  2.537570e+05  2.537570e+05  2.537570e+05   \nmean   5.189838e-17  7.062005e-17  4.437269e-18 -5.231380e-17 -1.881727e-17   \nstd    8.102932e-03  7.015439e-03  6.618327e-03  5.218810e-03  4.758338e-03   \nmin   -3.375120e-02 -3.501111e-02 -4.987765e-02 -1.812416e-02 -3.064098e-02   \n25%   -1.758406e-03 -3.699929e-03 -2.466012e-03 -2.043869e-03 -1.834491e-03   \n50%    4.459736e-04  2.906529e-04 -3.320795e-04 -3.565152e-04 -5.950972e-05   \n75%    2.933820e-03  2.877366e-03  2.809515e-03  2.511833e-03  1.539411e-03   \nmax    4.053291e-02  5.635270e-02  6.369975e-02  3.917342e-02  3.377294e-02   \n\n                 65  \ncount  2.537570e+05  \nmean   6.240156e-18  \nstd    1.916538e-03  \nmin   -1.701810e-02  \n25%   -3.338619e-04  \n50%    5.686164e-05  \n75%    4.014022e-04  \nmax    1.823572e-02  \n\n[8 rows x 55 columns]",
      "text/html": "<div>\n<style scoped>\n    .dataframe tbody tr th:only-of-type {\n        vertical-align: middle;\n    }\n\n    .dataframe tbody tr th {\n        vertical-align: top;\n    }\n\n    .dataframe thead th {\n        text-align: right;\n    }\n</style>\n<table border=\"1\" class=\"dataframe\">\n  <thead>\n    <tr style=\"text-align: right;\">\n      <th></th>\n      <th>0</th>\n      <th>1</th>\n      <th>2</th>\n      <th>3</th>\n      <th>4</th>\n      <th>5</th>\n      <th>6</th>\n      <th>7</th>\n      <th>8</th>\n      <th>9</th>\n      <th>...</th>\n      <th>52</th>\n      <th>53</th>\n      <th>54</th>\n      <th>55</th>\n      <th>57</th>\n      <th>58</th>\n      <th>59</th>\n      <th>60</th>\n      <th>62</th>\n      <th>65</th>\n    </tr>\n  </thead>\n  <tbody>\n    <tr>\n      <th>count</th>\n      <td>2.537570e+05</td>\n      <td>2.537570e+05</td>\n      <td>2.537570e+05</td>\n      <td>2.537570e+05</td>\n      <td>2.537570e+05</td>\n      <td>2.537570e+05</td>\n      <td>2.537570e+05</td>\n      <td>2.537570e+05</td>\n      <td>2.537570e+05</td>\n      <td>2.537570e+05</td>\n      <td>...</td>\n      <td>2.537570e+05</td>\n      <td>2.537570e+05</td>\n      <td>2.537570e+05</td>\n      <td>2.537570e+05</td>\n      <td>2.537570e+05</td>\n      <td>2.537570e+05</td>\n      <td>2.537570e+05</td>\n      <td>2.537570e+05</td>\n      <td>2.537570e+05</td>\n      <td>2.537570e+05</td>\n    </tr>\n    <tr>\n      <th>mean</th>\n      <td>-7.571447e-17</td>\n      <td>-4.257539e-17</td>\n      <td>4.312140e-18</td>\n      <td>3.861326e-17</td>\n      <td>-1.058434e-17</td>\n      <td>2.969497e-17</td>\n      <td>-5.989395e-17</td>\n      <td>-4.250538e-17</td>\n      <td>-9.089096e-17</td>\n      <td>4.722354e-17</td>\n      <td>...</td>\n      <td>1.218040e-17</td>\n      <td>4.989412e-18</td>\n      <td>3.344621e-17</td>\n      <td>-1.133394e-16</td>\n      <td>5.189838e-17</td>\n      <td>7.062005e-17</td>\n      <td>4.437269e-18</td>\n      <td>-5.231380e-17</td>\n      <td>-1.881727e-17</td>\n      <td>6.240156e-18</td>\n    </tr>\n    <tr>\n      <th>std</th>\n      <td>1.037138e+00</td>\n      <td>8.741859e-01</td>\n      <td>7.397236e-01</td>\n      <td>6.436235e-01</td>\n      <td>6.153795e-01</td>\n      <td>5.817543e-01</td>\n      <td>5.729090e-01</td>\n      <td>5.209250e-01</td>\n      <td>4.568158e-01</td>\n      <td>3.595626e-01</td>\n      <td>...</td>\n      <td>2.311468e-02</td>\n      <td>1.990104e-02</td>\n      <td>1.343140e-02</td>\n      <td>1.163198e-02</td>\n      <td>8.102932e-03</td>\n      <td>7.015439e-03</td>\n      <td>6.618327e-03</td>\n      <td>5.218810e-03</td>\n      <td>4.758338e-03</td>\n      <td>1.916538e-03</td>\n    </tr>\n    <tr>\n      <th>min</th>\n      <td>-1.731410e+00</td>\n      <td>-1.538654e+00</td>\n      <td>-1.162652e+00</td>\n      <td>-1.317297e+00</td>\n      <td>-1.265410e+00</td>\n      <td>-8.429111e-01</td>\n      <td>-1.244605e+00</td>\n      <td>-1.067371e+00</td>\n      <td>-1.086681e+00</td>\n      <td>-1.022311e+00</td>\n      <td>...</td>\n      <td>-7.804090e-02</td>\n      <td>-1.309633e-01</td>\n      <td>-9.235914e-02</td>\n      <td>-5.044168e-02</td>\n      <td>-3.375120e-02</td>\n      <td>-3.501111e-02</td>\n      <td>-4.987765e-02</td>\n      <td>-1.812416e-02</td>\n      <td>-3.064098e-02</td>\n      <td>-1.701810e-02</td>\n    </tr>\n    <tr>\n      <th>25%</th>\n      <td>-7.223774e-01</td>\n      <td>-5.443663e-01</td>\n      <td>-4.830957e-01</td>\n      <td>-4.204048e-01</td>\n      <td>-4.503977e-01</td>\n      <td>-3.242544e-01</td>\n      <td>-4.395494e-01</td>\n      <td>-3.385943e-01</td>\n      <td>-3.250936e-01</td>\n      <td>-2.160490e-01</td>\n      <td>...</td>\n      <td>-7.138139e-03</td>\n      <td>-5.409256e-03</td>\n      <td>-4.148888e-03</td>\n      <td>-6.803566e-03</td>\n      <td>-1.758406e-03</td>\n      <td>-3.699929e-03</td>\n      <td>-2.466012e-03</td>\n      <td>-2.043869e-03</td>\n      <td>-1.834491e-03</td>\n      <td>-3.338619e-04</td>\n    </tr>\n    <tr>\n      <th>50%</th>\n      <td>3.542787e-01</td>\n      <td>-1.963659e-01</td>\n      <td>-2.019186e-01</td>\n      <td>-1.373168e-01</td>\n      <td>-1.828514e-01</td>\n      <td>-1.780317e-01</td>\n      <td>-8.801774e-02</td>\n      <td>-3.830221e-02</td>\n      <td>-4.641890e-02</td>\n      <td>3.077354e-04</td>\n      <td>...</td>\n      <td>-1.949518e-03</td>\n      <td>-6.577685e-04</td>\n      <td>-1.165870e-04</td>\n      <td>-5.622907e-06</td>\n      <td>4.459736e-04</td>\n      <td>2.906529e-04</td>\n      <td>-3.320795e-04</td>\n      <td>-3.565152e-04</td>\n      <td>-5.950972e-05</td>\n      <td>5.686164e-05</td>\n    </tr>\n    <tr>\n      <th>75%</th>\n      <td>6.986189e-01</td>\n      <td>4.781840e-01</td>\n      <td>1.155238e-01</td>\n      <td>3.602293e-01</td>\n      <td>3.050447e-01</td>\n      <td>2.796412e-02</td>\n      <td>4.934691e-01</td>\n      <td>2.343247e-01</td>\n      <td>3.795762e-01</td>\n      <td>2.229384e-01</td>\n      <td>...</td>\n      <td>2.313124e-03</td>\n      <td>4.972987e-03</td>\n      <td>1.714155e-03</td>\n      <td>7.267643e-03</td>\n      <td>2.933820e-03</td>\n      <td>2.877366e-03</td>\n      <td>2.809515e-03</td>\n      <td>2.511833e-03</td>\n      <td>1.539411e-03</td>\n      <td>4.014022e-04</td>\n    </tr>\n    <tr>\n      <th>max</th>\n      <td>2.904399e+00</td>\n      <td>3.369386e+00</td>\n      <td>2.910846e+00</td>\n      <td>2.628750e+00</td>\n      <td>1.703004e+00</td>\n      <td>2.267549e+00</td>\n      <td>1.302074e+00</td>\n      <td>3.180085e+00</td>\n      <td>2.592405e+00</td>\n      <td>1.228948e+00</td>\n      <td>...</td>\n      <td>9.789266e-02</td>\n      <td>3.095991e-01</td>\n      <td>1.045693e-01</td>\n      <td>6.827440e-02</td>\n      <td>4.053291e-02</td>\n      <td>5.635270e-02</td>\n      <td>6.369975e-02</td>\n      <td>3.917342e-02</td>\n      <td>3.377294e-02</td>\n      <td>1.823572e-02</td>\n    </tr>\n  </tbody>\n</table>\n<p>8 rows × 55 columns</p>\n</div>"
     },
     "execution_count": 16,
     "metadata": {},
     "output_type": "execute_result"
    }
   ],
   "source": [
    "df=df_L1\n",
    "selector = SelectKBest(f_classif,k=55)\n",
    "X_new = selector.fit_transform(df, df_target)\n",
    "selected_features = pd.DataFrame(selector.inverse_transform(X_new),\n",
    "                                index=df.index, columns=df.columns)\n",
    "to_be_removed = selected_features.columns[selected_features.var() == 0]\n",
    "df=df.drop(to_be_removed, axis=1)\n",
    "df.describe()"
   ],
   "metadata": {
    "collapsed": false,
    "pycharm": {
     "name": "#%%\n"
    }
   }
  },
  {
   "cell_type": "code",
   "execution_count": 23,
   "outputs": [],
   "source": [
    "pickle.dump(df, open('working_data/initial_changed_data.pickle','wb'))\n",
    "del SelectFromModel, SelectKBest, X, X_new, df_source, df_L1, df_attributed,\\\n",
    "    f, model, selected_features, selector, to_be_removed, y"
   ],
   "metadata": {
    "collapsed": false,
    "pycharm": {
     "name": "#%%\n"
    }
   }
  },
  {
   "cell_type": "code",
   "execution_count": null,
   "outputs": [],
   "source": [
    "# **************************\n",
    "df=shuffle(pickle.load(open('working_data/initial_changed_data.pickle','rb')).sample(2500))\n",
    "not_atr=df[df_target==0]\n",
    "df=shuffle(df.drop(not_atr.sample(len(not_atr)//10).index))\n",
    "x_train, x_test, y_train, y_test = train_test_split(df,\n",
    "                        df_target.loc[df.index], test_size=0.2, random_state=42)\n",
    "pipe=make_pipeline(\n",
    "    SMOTE(),\n",
    "    RandomForestClassifier()#class_weight={0:1, 1:2})\n",
    ")\n",
    "print(\"Best parameters : %s\" % GridSearchCV(\n",
    "        estimator=pipe,\n",
    "        param_grid={\n",
    "            'smote__sampling_strategy': np.linspace(0.005, 1, 7),\n",
    "            'randomforestclassifier__class_weight': [{0:1, 1:i} for i in np.linspace(0.25, 2.25, 7)]\n",
    "        },\n",
    "        scoring='f1',\n",
    "    ).fit(x_train.values, y_train.values).best_params_)"
   ],
   "metadata": {
    "collapsed": false,
    "pycharm": {
     "name": "#%%\n"
    }
   }
  },
  {
   "cell_type": "code",
   "execution_count": 51,
   "outputs": [],
   "source": [
    "# **************************\n",
    "def run_pipe(pipe, save_name=None, sample_size=None):\n",
    "    df=shuffle(pickle.load(open('working_data/initial_changed_data.pickle','rb')))\n",
    "    if sample_size is not None: df=df.sample(sample_size)\n",
    "    not_atr=df[df_target==0]\n",
    "    df=shuffle(df.drop(not_atr.sample(len(not_atr)//10).index))\n",
    "    x_train, x_test, y_train, y_test = train_test_split(df,\n",
    "                            df_target.loc[df.index], test_size=0.2, random_state=42)\n",
    "\n",
    "    pipe.fit(x_train, y_train)\n",
    "\n",
    "    y_predict=pipe.predict(x_test)\n",
    "    display(pd.crosstab(y_predict, y_test, rownames=['Predicted'], colnames=['Actual']))\n",
    "    print(\"Accuracy = \" , accuracy_score(y_test, y_predict))\n",
    "    print(\"Precision = \" ,precision_score(y_test, y_predict))\n",
    "    print(\"Recall = \" ,recall_score(y_test, y_predict))\n",
    "    print(\"F1 Score = \" ,f1_score(y_test, y_predict))\n",
    "\n",
    "    if save_name is not None: pickle.dump(pipe, open('working_data/'+save_name+'.pickle', 'wb'))\n",
    "    return pipe"
   ],
   "metadata": {
    "collapsed": false,
    "pycharm": {
     "name": "#%%\n"
    }
   }
  },
  {
   "cell_type": "code",
   "execution_count": 63,
   "outputs": [
    {
     "name": "stderr",
     "output_type": "stream",
     "text": [
      "C:\\Users\\No1\\AppData\\Local\\Temp/ipykernel_15620/685942475.py:5: UserWarning: Boolean Series key will be reindexed to match DataFrame index.\n",
      "  not_atr=df[df_target==0]\n"
     ]
    },
    {
     "data": {
      "text/plain": "Actual         0     1\nPredicted             \n0          38211  1724\n1            353  6189",
      "text/html": "<div>\n<style scoped>\n    .dataframe tbody tr th:only-of-type {\n        vertical-align: middle;\n    }\n\n    .dataframe tbody tr th {\n        vertical-align: top;\n    }\n\n    .dataframe thead th {\n        text-align: right;\n    }\n</style>\n<table border=\"1\" class=\"dataframe\">\n  <thead>\n    <tr style=\"text-align: right;\">\n      <th>Actual</th>\n      <th>0</th>\n      <th>1</th>\n    </tr>\n    <tr>\n      <th>Predicted</th>\n      <th></th>\n      <th></th>\n    </tr>\n  </thead>\n  <tbody>\n    <tr>\n      <th>0</th>\n      <td>38211</td>\n      <td>1724</td>\n    </tr>\n    <tr>\n      <th>1</th>\n      <td>353</td>\n      <td>6189</td>\n    </tr>\n  </tbody>\n</table>\n</div>"
     },
     "metadata": {},
     "output_type": "display_data"
    },
    {
     "name": "stdout",
     "output_type": "stream",
     "text": [
      "Accuracy =  0.955311229210147\n",
      "Precision =  0.9460409660654234\n",
      "Recall =  0.7821306710476431\n",
      "F1 Score =  0.8563126945693532\n"
     ]
    }
   ],
   "source": [
    "#*************\n",
    "pipe = run_pipe(make_pipeline(\n",
    "    SMOTE(sampling_strategy=0.34),\n",
    "    LogisticRegression(class_weight={0: 1, 1: 0.75})\n",
    "), 'LogisticRegression')"
   ],
   "metadata": {
    "collapsed": false,
    "pycharm": {
     "name": "#%%\n"
    }
   }
  },
  {
   "cell_type": "code",
   "execution_count": 68,
   "outputs": [
    {
     "name": "stderr",
     "output_type": "stream",
     "text": [
      "C:\\Users\\No1\\AppData\\Local\\Temp/ipykernel_15620/685942475.py:5: UserWarning: Boolean Series key will be reindexed to match DataFrame index.\n",
      "  not_atr=df[df_target==0]\n"
     ]
    },
    {
     "data": {
      "text/plain": "Actual        0     1\nPredicted            \n0          7562   342\n1            57  1196",
      "text/html": "<div>\n<style scoped>\n    .dataframe tbody tr th:only-of-type {\n        vertical-align: middle;\n    }\n\n    .dataframe tbody tr th {\n        vertical-align: top;\n    }\n\n    .dataframe thead th {\n        text-align: right;\n    }\n</style>\n<table border=\"1\" class=\"dataframe\">\n  <thead>\n    <tr style=\"text-align: right;\">\n      <th>Actual</th>\n      <th>0</th>\n      <th>1</th>\n    </tr>\n    <tr>\n      <th>Predicted</th>\n      <th></th>\n      <th></th>\n    </tr>\n  </thead>\n  <tbody>\n    <tr>\n      <th>0</th>\n      <td>7562</td>\n      <td>342</td>\n    </tr>\n    <tr>\n      <th>1</th>\n      <td>57</td>\n      <td>1196</td>\n    </tr>\n  </tbody>\n</table>\n</div>"
     },
     "metadata": {},
     "output_type": "display_data"
    },
    {
     "name": "stdout",
     "output_type": "stream",
     "text": [
      "Accuracy =  0.9564267773288195\n",
      "Precision =  0.9545091779728652\n",
      "Recall =  0.7776332899869961\n",
      "F1 Score =  0.8570404872805447\n"
     ]
    }
   ],
   "source": [
    "#*************\n",
    "pipe = run_pipe(make_pipeline(\n",
    "    SMOTE(sampling_strategy= 0.5),\n",
    "    SVC(class_weight={0: 1, 1: 0.9})\n",
    "), 'SVC', 50000)"
   ],
   "metadata": {
    "collapsed": false,
    "pycharm": {
     "name": "#%%\n"
    }
   }
  },
  {
   "cell_type": "code",
   "execution_count": 69,
   "outputs": [
    {
     "name": "stderr",
     "output_type": "stream",
     "text": [
      "C:\\Users\\No1\\AppData\\Local\\Temp/ipykernel_15620/685942475.py:5: UserWarning: Boolean Series key will be reindexed to match DataFrame index.\n",
      "  not_atr=df[df_target==0]\n"
     ]
    },
    {
     "data": {
      "text/plain": "Actual         0     1\nPredicted             \n0          14672   617\n1            490  2534",
      "text/html": "<div>\n<style scoped>\n    .dataframe tbody tr th:only-of-type {\n        vertical-align: middle;\n    }\n\n    .dataframe tbody tr th {\n        vertical-align: top;\n    }\n\n    .dataframe thead th {\n        text-align: right;\n    }\n</style>\n<table border=\"1\" class=\"dataframe\">\n  <thead>\n    <tr style=\"text-align: right;\">\n      <th>Actual</th>\n      <th>0</th>\n      <th>1</th>\n    </tr>\n    <tr>\n      <th>Predicted</th>\n      <th></th>\n      <th></th>\n    </tr>\n  </thead>\n  <tbody>\n    <tr>\n      <th>0</th>\n      <td>14672</td>\n      <td>617</td>\n    </tr>\n    <tr>\n      <th>1</th>\n      <td>490</td>\n      <td>2534</td>\n    </tr>\n  </tbody>\n</table>\n</div>"
     },
     "metadata": {},
     "output_type": "display_data"
    },
    {
     "name": "stdout",
     "output_type": "stream",
     "text": [
      "Accuracy =  0.9395511385354666\n",
      "Precision =  0.8379629629629629\n",
      "Recall =  0.8041891463027611\n",
      "F1 Score =  0.8207287449392714\n"
     ]
    }
   ],
   "source": [
    "#*************\n",
    "pipe = run_pipe(make_pipeline(\n",
    "    SMOTE(sampling_strategy= 0.34),\n",
    "    KNeighborsClassifier()\n",
    "),'KNeighborsClassifier', 100000)"
   ],
   "metadata": {
    "collapsed": false,
    "pycharm": {
     "name": "#%%\n"
    }
   }
  },
  {
   "cell_type": "code",
   "execution_count": 70,
   "outputs": [
    {
     "name": "stderr",
     "output_type": "stream",
     "text": [
      "C:\\Users\\No1\\AppData\\Local\\Temp/ipykernel_15620/685942475.py:5: UserWarning: Boolean Series key will be reindexed to match DataFrame index.\n",
      "  not_atr=df[df_target==0]\n"
     ]
    },
    {
     "data": {
      "text/plain": "Actual         0     1\nPredicted             \n0          14307   667\n1            907  2434",
      "text/html": "<div>\n<style scoped>\n    .dataframe tbody tr th:only-of-type {\n        vertical-align: middle;\n    }\n\n    .dataframe tbody tr th {\n        vertical-align: top;\n    }\n\n    .dataframe thead th {\n        text-align: right;\n    }\n</style>\n<table border=\"1\" class=\"dataframe\">\n  <thead>\n    <tr style=\"text-align: right;\">\n      <th>Actual</th>\n      <th>0</th>\n      <th>1</th>\n    </tr>\n    <tr>\n      <th>Predicted</th>\n      <th></th>\n      <th></th>\n    </tr>\n  </thead>\n  <tbody>\n    <tr>\n      <th>0</th>\n      <td>14307</td>\n      <td>667</td>\n    </tr>\n    <tr>\n      <th>1</th>\n      <td>907</td>\n      <td>2434</td>\n    </tr>\n  </tbody>\n</table>\n</div>"
     },
     "metadata": {},
     "output_type": "display_data"
    },
    {
     "name": "stdout",
     "output_type": "stream",
     "text": [
      "Accuracy =  0.914059514059514\n",
      "Precision =  0.7285243938940437\n",
      "Recall =  0.7849080941631732\n",
      "F1 Score =  0.7556659422539584\n"
     ]
    }
   ],
   "source": [
    "#*************\n",
    "pipe = run_pipe(make_pipeline(\n",
    "    SMOTE(sampling_strategy= 0.34),\n",
    "    DecisionTreeClassifier(class_weight={0: 1, 1: 1.25})\n",
    "),'DecisionTreeClassifier', 100000)"
   ],
   "metadata": {
    "collapsed": false,
    "pycharm": {
     "name": "#%%\n"
    }
   }
  },
  {
   "cell_type": "code",
   "execution_count": 71,
   "outputs": [
    {
     "name": "stderr",
     "output_type": "stream",
     "text": [
      "C:\\Users\\No1\\AppData\\Local\\Temp/ipykernel_15620/685942475.py:5: UserWarning: Boolean Series key will be reindexed to match DataFrame index.\n",
      "  not_atr=df[df_target==0]\n"
     ]
    },
    {
     "data": {
      "text/plain": "Actual         0     1\nPredicted             \n0          14977   648\n1            200  2492",
      "text/html": "<div>\n<style scoped>\n    .dataframe tbody tr th:only-of-type {\n        vertical-align: middle;\n    }\n\n    .dataframe tbody tr th {\n        vertical-align: top;\n    }\n\n    .dataframe thead th {\n        text-align: right;\n    }\n</style>\n<table border=\"1\" class=\"dataframe\">\n  <thead>\n    <tr style=\"text-align: right;\">\n      <th>Actual</th>\n      <th>0</th>\n      <th>1</th>\n    </tr>\n    <tr>\n      <th>Predicted</th>\n      <th></th>\n      <th></th>\n    </tr>\n  </thead>\n  <tbody>\n    <tr>\n      <th>0</th>\n      <td>14977</td>\n      <td>648</td>\n    </tr>\n    <tr>\n      <th>1</th>\n      <td>200</td>\n      <td>2492</td>\n    </tr>\n  </tbody>\n</table>\n</div>"
     },
     "metadata": {},
     "output_type": "display_data"
    },
    {
     "name": "stdout",
     "output_type": "stream",
     "text": [
      "Accuracy =  0.9537042092045641\n",
      "Precision =  0.9257057949479941\n",
      "Recall =  0.7936305732484077\n",
      "F1 Score =  0.8545953360768177\n"
     ]
    }
   ],
   "source": [
    "#*************\n",
    "pipe = run_pipe(make_pipeline(\n",
    "    SMOTE(sampling_strategy= 0.34),\n",
    "    RandomForestClassifier(class_weight={0: 1, 1: 1.25})\n",
    "),'RandomForestClassifier', 100000)"
   ],
   "metadata": {
    "collapsed": false,
    "pycharm": {
     "name": "#%%\n"
    }
   }
  },
  {
   "cell_type": "code",
   "execution_count": 72,
   "outputs": [
    {
     "name": "stderr",
     "output_type": "stream",
     "text": [
      "C:\\Users\\No1\\AppData\\Local\\Temp/ipykernel_15620/685942475.py:5: UserWarning: Boolean Series key will be reindexed to match DataFrame index.\n",
      "  not_atr=df[df_target==0]\n"
     ]
    },
    {
     "data": {
      "text/plain": "Actual         0     1\nPredicted             \n0          14708   782\n1            566  2258",
      "text/html": "<div>\n<style scoped>\n    .dataframe tbody tr th:only-of-type {\n        vertical-align: middle;\n    }\n\n    .dataframe tbody tr th {\n        vertical-align: top;\n    }\n\n    .dataframe thead th {\n        text-align: right;\n    }\n</style>\n<table border=\"1\" class=\"dataframe\">\n  <thead>\n    <tr style=\"text-align: right;\">\n      <th>Actual</th>\n      <th>0</th>\n      <th>1</th>\n    </tr>\n    <tr>\n      <th>Predicted</th>\n      <th></th>\n      <th></th>\n    </tr>\n  </thead>\n  <tbody>\n    <tr>\n      <th>0</th>\n      <td>14708</td>\n      <td>782</td>\n    </tr>\n    <tr>\n      <th>1</th>\n      <td>566</td>\n      <td>2258</td>\n    </tr>\n  </tbody>\n</table>\n</div>"
     },
     "metadata": {},
     "output_type": "display_data"
    },
    {
     "name": "stdout",
     "output_type": "stream",
     "text": [
      "Accuracy =  0.9263951075679808\n",
      "Precision =  0.7995750708215298\n",
      "Recall =  0.7427631578947368\n",
      "F1 Score =  0.7701227830832197\n"
     ]
    }
   ],
   "source": [
    "#*************\n",
    "pipe = run_pipe(make_pipeline(\n",
    "    SMOTE(sampling_strategy= 0.4),\n",
    "    GaussianNB()\n",
    "),'GaussianNB', 100000)\n"
   ],
   "metadata": {
    "collapsed": false,
    "pycharm": {
     "name": "#%%\n"
    }
   }
  }
 ],
 "metadata": {
  "kernelspec": {
   "name": "python3",
   "language": "python",
   "display_name": "Python 3 (ipykernel)"
  },
  "language_info": {
   "codemirror_mode": {
    "name": "ipython",
    "version": 2
   },
   "file_extension": ".py",
   "mimetype": "text/x-python",
   "name": "python",
   "nbconvert_exporter": "python",
   "pygments_lexer": "ipython2",
   "version": "2.7.6"
  }
 },
 "nbformat": 4,
 "nbformat_minor": 0
}