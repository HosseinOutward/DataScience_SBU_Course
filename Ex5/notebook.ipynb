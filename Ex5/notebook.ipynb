{
 "cells": [
  {
   "cell_type": "code",
   "execution_count": null,
   "outputs": [],
   "source": [],
   "metadata": {
    "collapsed": false,
    "pycharm": {
     "name": "#%%\n"
    }
   }
  },
  {
   "cell_type": "code",
   "execution_count": null,
   "outputs": [],
   "source": [
    "import math\n",
    "import numpy as np\n",
    "\n",
    "act = lambda x: 1 / (1 + math.e ** -x)\n",
    "\n",
    "x = np.array([.05, .10]).T\n",
    "\n",
    "w1 = np.array([\n",
    "    [.15, .20],\n",
    "    [.25, .30]\n",
    "])\n",
    "b1 = 0.35\n",
    "w2 = np.array([\n",
    "    [.40, .45],\n",
    "    [.50, .55]\n",
    "])\n",
    "b2 = 0.60\n",
    "\n",
    "y = np.array([.01, .99]).T\n",
    "\n",
    "hl1 = act(w1 @ x + b1)\n",
    "\n",
    "y_p = act(w2 @ hl1 + b2)\n",
    "y_p"
   ],
   "metadata": {
    "collapsed": false,
    "pycharm": {
     "name": "#%%\n"
    }
   }
  },
  {
   "cell_type": "code",
   "execution_count": 13,
   "outputs": [
    {
     "data": {
      "text/plain": "array([-0.49,  0.49])"
     },
     "execution_count": 13,
     "metadata": {},
     "output_type": "execute_result"
    }
   ],
   "source": [
    "cost = (y - y_p)\n",
    "cost"
   ],
   "metadata": {
    "collapsed": false,
    "pycharm": {
     "name": "#%%\n"
    }
   }
  },
  {
   "cell_type": "code",
   "execution_count": 14,
   "outputs": [
    {
     "data": {
      "text/plain": "0.24009999999999998"
     },
     "execution_count": 14,
     "metadata": {},
     "output_type": "execute_result"
    }
   ],
   "source": [
    "mse = 1 / 2 * (y - y_p) @ (y - y_p).T\n",
    "mse"
   ],
   "metadata": {
    "collapsed": false,
    "pycharm": {
     "name": "#%%\n"
    }
   }
  },
  {
   "cell_type": "code",
   "execution_count": 15,
   "outputs": [
    {
     "data": {
      "text/plain": "array([[0, 0],\n       [0, 0]])"
     },
     "execution_count": 15,
     "metadata": {},
     "output_type": "execute_result"
    }
   ],
   "source": [
    "dact = lambda x: act(x) * (1 - act(x))\n",
    "lam = 0.3\n",
    "new_w2 = w2.copy()\n",
    "de_dy = -cost\n",
    "for i, r in enumerate(w2):\n",
    "    for j, w in enumerate(r):\n",
    "        dw = [[0.0, 0.0], [0.0, 0.0]]\n",
    "        dw[i][j] = 1\n",
    "        dy = np.array([0.0, 0.0])\n",
    "        dy[i] = dact(w2 @ hl1 + b2) @ (dw @ hl1 + 0)\n",
    "        dmse = de_dy @ dy\n",
    "        new_w2[i][j] -= dmse * lam\n",
    "new_w2"
   ],
   "metadata": {
    "collapsed": false,
    "pycharm": {
     "name": "#%%\n"
    }
   }
  },
  {
   "cell_type": "code",
   "execution_count": 16,
   "outputs": [
    {
     "data": {
      "text/plain": "array([[0, 0],\n       [0, 0]])"
     },
     "execution_count": 16,
     "metadata": {},
     "output_type": "execute_result"
    }
   ],
   "source": [
    "new_w1 = w1.copy()\n",
    "dy_dh = dact(w2 @ hl1 + b2) * w2\n",
    "for i, r in enumerate(w1):\n",
    "    for j, w in enumerate(r):\n",
    "        dw = [[0.0, 0.0], [0.0, 0.0]]\n",
    "        dw[i][j] = 1\n",
    "        dhl1 = np.array([0.0, 0.0])\n",
    "        dhl1[i] = dact(w1 @ x + b1) @ (dw @ x + 0)\n",
    "        dy = dy_dh @ dhl1\n",
    "        dmse = de_dy @ dy\n",
    "        new_w1[i][j] -= dmse * lam\n",
    "new_w1\n"
   ],
   "metadata": {
    "collapsed": false,
    "pycharm": {
     "name": "#%%\n"
    }
   }
  },
  {
   "cell_type": "code",
   "execution_count": 17,
   "outputs": [
    {
     "data": {
      "text/plain": "0.0735"
     },
     "execution_count": 17,
     "metadata": {},
     "output_type": "execute_result"
    }
   ],
   "source": [
    "new_b2 = b2\n",
    "dy = np.array([0.0, 0.0])\n",
    "dy[i] = dact(w2 @ hl1 + b2) @ (np.array([1.0, 1.0]))\n",
    "dmse = de_dy @ dy\n",
    "new_b2 -= dmse * lam\n",
    "new_b2"
   ],
   "metadata": {
    "collapsed": false,
    "pycharm": {
     "name": "#%%\n"
    }
   }
  },
  {
   "cell_type": "code",
   "execution_count": 18,
   "outputs": [
    {
     "data": {
      "text/plain": "0.0"
     },
     "execution_count": 18,
     "metadata": {},
     "output_type": "execute_result"
    }
   ],
   "source": [
    "new_b1 = b1\n",
    "dhl1 = np.array([0.0, 0.0])\n",
    "dhl1[i] = dact(w1 @ x + b1) @ (np.array([1.0, 1.0]))\n",
    "dy = dy_dh @ dhl1\n",
    "dmse = de_dy @ dy\n",
    "new_b1 -= dmse * lam\n",
    "new_b1"
   ],
   "metadata": {
    "collapsed": false,
    "pycharm": {
     "name": "#%%\n"
    }
   }
  },
  {
   "cell_type": "code",
   "execution_count": 19,
   "outputs": [
    {
     "data": {
      "text/plain": "array([0.5, 0.5])"
     },
     "execution_count": 19,
     "metadata": {},
     "output_type": "execute_result"
    }
   ],
   "source": [
    "w1=new_w1\n",
    "b1=new_b1\n",
    "w1=new_w2\n",
    "b1=new_b2\n",
    "\n",
    "hl1 = act(w1 @ x + b1)\n",
    "\n",
    "y_p = act(w2 @ hl1 + b2)\n",
    "y_p"
   ],
   "metadata": {
    "collapsed": false,
    "pycharm": {
     "name": "#%%\n"
    }
   }
  },
  {
   "cell_type": "code",
   "execution_count": 20,
   "outputs": [
    {
     "data": {
      "text/plain": "array([-0.49,  0.49])"
     },
     "execution_count": 20,
     "metadata": {},
     "output_type": "execute_result"
    }
   ],
   "source": [
    "cost = (y - y_p)\n",
    "cost"
   ],
   "metadata": {
    "collapsed": false,
    "pycharm": {
     "name": "#%%\n"
    }
   }
  },
  {
   "cell_type": "code",
   "execution_count": 21,
   "outputs": [
    {
     "data": {
      "text/plain": "0.24009999999999998"
     },
     "execution_count": 21,
     "metadata": {},
     "output_type": "execute_result"
    }
   ],
   "source": [
    "mse = 1 / 2 * (y - y_p) @ (y - y_p).T\n",
    "mse\n",
    "\n"
   ],
   "metadata": {
    "collapsed": false,
    "pycharm": {
     "name": "#%%\n"
    }
   }
  },
  {
   "cell_type": "code",
   "execution_count": 22,
   "outputs": [
    {
     "data": {
      "text/plain": "{'w1': [[0.14987287, 0.19974574], [0.2498643, 0.2997286]],\n 'b1': 0.34456420672061516,\n 'w2': [[0.37534989, 0.42519971], [0.50678076, 0.55682207]],\n 'b2': 0.6235951757709365,\n 'mse': 0.30404065487865817}"
     },
     "execution_count": 22,
     "metadata": {},
     "output_type": "execute_result"
    }
   ],
   "source": [
    "\n",
    "{\n",
    "  'w1': [[0.14987287, 0.19974574],\n",
    "         [0.2498643, 0.2997286]],\n",
    "  'b1': 0.34456420672061516,\n",
    "\n",
    "  'w2': [[0.37534989, 0.42519971],\n",
    "         [0.50678076, 0.55682207]],\n",
    "  'b2': 0.6235951757709365,\n",
    "\n",
    "  'mse': 0.30404065487865817\n",
    " }"
   ],
   "metadata": {
    "collapsed": false,
    "pycharm": {
     "name": "#%%\n"
    }
   }
  }
 ],
 "metadata": {
  "kernelspec": {
   "display_name": "Python 3",
   "language": "python",
   "name": "python3"
  },
  "language_info": {
   "codemirror_mode": {
    "name": "ipython",
    "version": 2
   },
   "file_extension": ".py",
   "mimetype": "text/x-python",
   "name": "python",
   "nbconvert_exporter": "python",
   "pygments_lexer": "ipython2",
   "version": "2.7.6"
  }
 },
 "nbformat": 4,
 "nbformat_minor": 0
}